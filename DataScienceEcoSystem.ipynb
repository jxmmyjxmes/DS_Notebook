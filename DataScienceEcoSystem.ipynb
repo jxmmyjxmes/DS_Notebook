{
 "cells": [
  {
   "cell_type": "markdown",
   "id": "29cb6c95-1bcf-4957-8e60-2148b1cd359f",
   "metadata": {},
   "source": [
    "# Data Science Tools and Ecosystem"
   ]
  },
  {
   "cell_type": "markdown",
   "id": "0c0eb500-5ff6-4e1d-b368-ac6ae346f43c",
   "metadata": {},
   "source": [
    "In this notebook, Data Science Tools and Ecosystem are summarized."
   ]
  },
  {
   "cell_type": "markdown",
   "id": "7dbe23a4-7ab2-48be-a1cb-9e6352dc63e0",
   "metadata": {},
   "source": [
    "__Objectives:__\n",
    "\n",
    "- Some of the popular languages that Data Scientists use.\n",
    "- Commonly used libraries used by Data Scientists.\n",
    "- Data Science Tools\n",
    "- Examples of Arithmetic Expressions "
   ]
  },
  {
   "cell_type": "markdown",
   "id": "e79f0d47-853a-4a91-809e-ed583dec2740",
   "metadata": {},
   "source": [
    "Some of the popular languages that Data Scientists use are:\n",
    "\n",
    "1. Python\n",
    "2. R\n",
    "3. SQL\n",
    "4. Scala\n",
    "5. Java"
   ]
  },
  {
   "cell_type": "markdown",
   "id": "3c60194c-f27f-4d2b-8d04-e8f4e522e111",
   "metadata": {},
   "source": [
    "Some of the commonly used libraries used by Data Scientists include:\n",
    "1. Numpy\n",
    "2. Pandaa\n",
    "3. Scikit\n",
    "4. Matplotlib\n",
    "5. Seaborn\n"
   ]
  },
  {
   "cell_type": "markdown",
   "id": "dd058057-065a-4625-9301-53bfb5b96409",
   "metadata": {},
   "source": [
    "<div style=\"text-align: left\">\n",
    "    \n",
    "| Data Science Tools |\n",
    "|:--:                |\n",
    "| Python             |\n",
    "| Jupyter            |\n",
    "| R                  |\n",
    "\n",
    "</div>"
   ]
  },
  {
   "cell_type": "markdown",
   "id": "f44869c8-7418-43a1-92d4-1b178d4a4522",
   "metadata": {},
   "source": [
    "### Below are a few examples of evaluating arithmetic expressions in Python."
   ]
  },
  {
   "cell_type": "code",
   "execution_count": 1,
   "id": "219229e0-30ce-4b79-82eb-6e4213b43e32",
   "metadata": {},
   "outputs": [
    {
     "data": {
      "text/plain": [
       "17"
      ]
     },
     "execution_count": 1,
     "metadata": {},
     "output_type": "execute_result"
    }
   ],
   "source": [
    "#This a simple arithmetic expression to mutiply then add integers\n",
    "(3*4)+5"
   ]
  },
  {
   "cell_type": "code",
   "execution_count": 3,
   "id": "c429c457-21b5-4c62-8699-2b12b7ba7e7a",
   "metadata": {},
   "outputs": [
    {
     "data": {
      "text/plain": [
       "3.3333333333333335"
      ]
     },
     "execution_count": 3,
     "metadata": {},
     "output_type": "execute_result"
    }
   ],
   "source": [
    "#This will convert 200 minutes to hours by diving by 60.\n",
    "200/60"
   ]
  },
  {
   "cell_type": "markdown",
   "id": "e37a3cc5-8e3a-4b19-96a7-be108850a88b",
   "metadata": {},
   "source": [
    "## Author\n",
    "James Bessel"
   ]
  },
  {
   "cell_type": "code",
   "execution_count": null,
   "id": "138ed98d-ebf9-4b4f-b1f9-89e505761c2c",
   "metadata": {},
   "outputs": [],
   "source": []
  },
  {
   "cell_type": "code",
   "execution_count": null,
   "id": "8fc6dde0-a190-4e5b-91e6-3d1bce3f74ba",
   "metadata": {},
   "outputs": [],
   "source": []
  },
  {
   "cell_type": "code",
   "execution_count": null,
   "id": "ca13c84a-a824-40af-b144-0d8dbaddebf2",
   "metadata": {},
   "outputs": [],
   "source": []
  },
  {
   "cell_type": "code",
   "execution_count": null,
   "id": "15bc1725-a34d-4804-905f-37f0165f63a0",
   "metadata": {},
   "outputs": [],
   "source": []
  },
  {
   "cell_type": "code",
   "execution_count": null,
   "id": "7acbc016-df2f-49f9-b620-85ba2b2746df",
   "metadata": {},
   "outputs": [],
   "source": []
  }
 ],
 "metadata": {
  "kernelspec": {
   "display_name": "Python [conda env:base] *",
   "language": "python",
   "name": "conda-base-py"
  },
  "language_info": {
   "codemirror_mode": {
    "name": "ipython",
    "version": 3
   },
   "file_extension": ".py",
   "mimetype": "text/x-python",
   "name": "python",
   "nbconvert_exporter": "python",
   "pygments_lexer": "ipython3",
   "version": "3.12.7"
  }
 },
 "nbformat": 4,
 "nbformat_minor": 5
}
